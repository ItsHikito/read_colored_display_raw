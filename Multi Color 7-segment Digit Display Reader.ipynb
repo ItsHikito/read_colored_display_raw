{
 "cells": [
  {
   "cell_type": "code",
   "execution_count": 2,
   "id": "fe33d4ee",
   "metadata": {},
   "outputs": [],
   "source": [
    "from imutils import contours\n",
    "import imutils as im\n",
    "import cv2 as cv\n",
    "import numpy as np"
   ]
  },
  {
   "cell_type": "code",
   "execution_count": 3,
   "id": "5571dd0f",
   "metadata": {},
   "outputs": [],
   "source": [
    "def transformation(image, points): #This function takes 4 corner points, orders them and fixes the perspective\n",
    "    rect = np.zeros((4, 2), dtype='float32')\n",
    "    s = points.sum(axis=1)\n",
    "    \n",
    "    rect[0] = points[np.argmin(s)] = tl\n",
    "    rect[2] = points[np.argmax(s)] = br\n",
    "    diff = np.diff(points, axis=1)\n",
    "    rect[1] = points[np.argmin(diff)] = tr\n",
    "    rect[3] = points[np.argmax(diff)] = bl\n",
    "\n",
    "    widthA = np.sqrt(((br[0] - bl[0])**2) + ((br[1]) - bl[1])**2)\n",
    "    widthB = np.sqrt(((tr[0] - tl[0])**2) + ((tr[1] - tl[1])**2))\n",
    "    maxWidth = max(int(widthA), int(widthB))\n",
    "    heightA = np.sqrt(((tr[0] - br[0])**2) + ((tr[1] - br[1])**2))\n",
    "    heightB = np.sqrt(((tl[0] - bl[0])**2) + ((tl[1] - bl[1])**2))\n",
    "    maxHeight = max(int(heightA), int(heightB))\n",
    "    \n",
    "    dest = np.array([\n",
    "        [0,0],\n",
    "        [maxWidth - 1, 0],\n",
    "        [maxWidth - 1, maxHeight - 1],\n",
    "        [0, maxHeight - 1]], dtype = \"float32\"\n",
    "    )\n",
    "    matrix = cv.getPerspectiveTransform(rect, dest)\n",
    "    trans = cv.warpPerspective(image, matrix, (maxWidth, maxHeight))\n",
    "    return trans"
   ]
  },
  {
   "cell_type": "code",
   "execution_count": 4,
   "id": "a0660538",
   "metadata": {},
   "outputs": [],
   "source": [
    "def extractMinMax(points): #This function fixes the issue of finding more then enough points by averaging them\n",
    "    tupleSorted = []\n",
    "    for i in points:\n",
    "        xmin, ymin = np.min(i, axis=0)[0]\n",
    "        xmax, ymax = np.max(i, axis=0)[0]\n",
    "        tupleSorted.append(np.array([[[xmin, ymin]], [[xmax, ymax]]], dtype=np.int32))\n",
    "    return tuple(tupleSorted)"
   ]
  },
  {
   "cell_type": "code",
   "execution_count": 5,
   "id": "1b1ad934",
   "metadata": {},
   "outputs": [],
   "source": [
    "digitDisplay = { #This stores the way of how every digit is represented\n",
    "    (1, 1, 1, 0, 1, 1, 1): 0,\n",
    "    (0, 0, 1, 0, 0, 1, 0): 1,\n",
    "    (1, 0, 1, 1, 1, 0, 1): 2,\n",
    "    (1, 0, 1, 1, 0, 1, 1): 3,\n",
    "    (0, 1, 1, 1, 0, 1, 0): 4,\n",
    "    (1, 1, 0, 1, 0, 1, 1): 5,\n",
    "    (1, 1, 0, 1, 1, 1, 1): 6,\n",
    "    (1, 0, 1, 0, 0, 1, 0): 7,\n",
    "    (1, 1, 1, 1, 1, 1, 1): 8,\n",
    "    (1, 1, 1, 1, 0, 1, 1): 9,\n",
    "}"
   ]
  },
  {
   "cell_type": "code",
   "execution_count": 6,
   "id": "4a93731a",
   "metadata": {},
   "outputs": [],
   "source": [
    "corn = np.array([ #The input variable for 4 points of display\n",
    "    [0,0],\n",
    "    [0,2],\n",
    "    [2,2],\n",
    "    [2,0]], dtype = \"float32\")"
   ]
  },
  {
   "cell_type": "code",
   "execution_count": null,
   "id": "b8ec7b9a",
   "metadata": {},
   "outputs": [],
   "source": [
    "image = output = cv.imread(\"display.jpg\")\n",
    "image = transformation(image, corn)\n",
    "hsv = cv.cvtColor(image, cv.COLOR_BGR2HSV)\n",
    "\n",
    "lowerColor = np.array([0, 100, 100], dtype=np.uint8) #HSV values in square brackets of lower and higher thresh color\n",
    "upperColor = np.array([10, 255, 255], dtype=np.uint8)\n",
    "mask = cv.inRange(hsv, lowerColor, upperColor)\n",
    "result = cv.bitwise_and(image, image, mask=mask)\n",
    "gray = cv.cvtColor(result, cv.COLOR_BGR2GRAY)\n",
    "_, binary = cv.threshold(gray, 0, 255, cv.THRESH_BINARY+cv.THRESH_OTSU)\n",
    "thresh = cv.threshold(binary, 0, 255, cv.THRESH_BINARY_INV | cv.THRESH_OTSU)[1]\n",
    "lut = cv.getStructuringElement(cv.MORPH_ELLIPSE, (1, 5)) #In case of segments not connecting, slowly raise second value in brackets\n",
    "thresh = cv.morphologyEx(thresh, cv.MORPH_OPEN, lut)\n",
    "thresh = cv.bitwise_not(thresh)"
   ]
  },
  {
   "cell_type": "code",
   "execution_count": null,
   "id": "a67b06c1",
   "metadata": {},
   "outputs": [],
   "source": [
    "cont = cv.findContours(binary.copy(), cv.RETR_EXTERNAL, cv.CHAIN_APPROX_SIMPLE)\n",
    "cont = im.grab_contours(cont)                                                   \n",
    "digitCont = []  \n",
    "\n",
    "for c in cont:                             \n",
    "    (x, y, w, h) = cv.boundingRect(c)      \n",
    "    if w >= 5 and (h >= 20 and h <= 50):   \n",
    "        digitCont.append(c)\n",
    "len(digitCont)       #If the value isn't equal to amount of digits, change the values of 'w' or/and 'h' depending on value being bigger or lower\n",
    "if (len(digitCont[0])!=2):  #If tuple doesn't have only 2 points (mostly), use given functions\n",
    "    tupleSorted = extractMinMax(digitCont)\n",
    "    digitCont = tupleSorted"
   ]
  },
  {
   "cell_type": "code",
   "execution_count": null,
   "id": "174dfd00",
   "metadata": {},
   "outputs": [],
   "source": [
    "for i in digitCont: #This function is used only for checking, if right digits are detected; can be skipped\n",
    "        pt1 = tuple(i[0][0])\n",
    "        pt2 = tuple(i[1][0])\n",
    "        cv.rectangle(image, pt1, pt2, (0, 255, 0), 2)"
   ]
  },
  {
   "cell_type": "code",
   "execution_count": null,
   "id": "852c6c4f",
   "metadata": {},
   "outputs": [],
   "source": [
    "for c in digitCont:\n",
    "    (x, y, w, h) = cv.boundingRect(c)\n",
    "    roi = thresh[y:y + h, x:x + w]\n",
    "    (roiH, roiW) = roi.shape\n",
    "    (sW, sH) = (int(roiW * 0.3), int(roiH * 0.2)) #Float values usually depends on digit on image resolution; needs to be optimise for certain image\n",
    "    sHC = int(roiH*0.1)\n",
    "    segments = [\n",
    "        ((0, 0), (w, sH)),\n",
    "        ((0, 0), (sW, h // 2)),\n",
    "        ((w - sW, 0), (w, h // 2)),\n",
    "        ((0, (h // 2) - sHC) , (w, (h // 2) + sHC)),\n",
    "        ((0, h // 2), (sW, h)),\n",
    "        ((w - sW, h // 2), (w, h)),\n",
    "        ((0, h - sH), (w, h))\n",
    "    ]\n",
    "    on = [0] * len(segments) \n",
    "    \n",
    "    for (i, ((xA, yA), (xB, yB))) in enumerate(segments):\n",
    "        segROI = roi[yA:yB, xA:xB]\n",
    "        total = cv.countNonZero(segROI) \n",
    "        area = (xB - xA) * (yB - yA) \n",
    "        if total / float(area) > 0.5: #Depends on how well thresholding was made; if its not reading, lower the value, so x<1\n",
    "            on[i]= 1\n",
    "\n",
    "    digit = digitDisplay[tuple(on)]\n",
    "    digits.append(digit)\n",
    "    cv.rectangle(output, (x, y), (x + w, y + h), (0, 255, 0), 1)\n",
    "    cv.putText(output, str(digit), (x + w + 1, y + h + 1), cv.FONT_HERSHEY_COMPLEX_SMALL, 0.5, (0, 255, 0), 1)"
   ]
  },
  {
   "cell_type": "code",
   "execution_count": null,
   "id": "a7c0ebae",
   "metadata": {},
   "outputs": [],
   "source": [
    "print(u\"{}{}:{}{}\".format(*digits))\n",
    "cv.imshow(\"Output\", output)\n",
    "cv.imwrite(\"Result.jpg\", output)\n",
    "cv.waitKey(0)"
   ]
  }
 ],
 "metadata": {
  "kernelspec": {
   "display_name": "Python 3 (ipykernel)",
   "language": "python",
   "name": "python3"
  },
  "language_info": {
   "codemirror_mode": {
    "name": "ipython",
    "version": 3
   },
   "file_extension": ".py",
   "mimetype": "text/x-python",
   "name": "python",
   "nbconvert_exporter": "python",
   "pygments_lexer": "ipython3",
   "version": "3.9.13"
  }
 },
 "nbformat": 4,
 "nbformat_minor": 5
}
